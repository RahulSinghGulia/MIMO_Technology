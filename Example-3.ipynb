version https://git-lfs.github.com/spec/v1
oid sha256:a0fc227bd806672af3cecee25ea0263f1b5b52ace8887971b24f7e96780351f5
size 200773
