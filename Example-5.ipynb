version https://git-lfs.github.com/spec/v1
oid sha256:5bc952c3f39acded2e98f721242c20e49a0a96b942c0d05b78f61c435c37a4e7
size 85109
